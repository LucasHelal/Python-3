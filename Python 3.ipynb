{
 "cells": [
  {
   "cell_type": "markdown",
   "metadata": {},
   "source": [
    "# Python 3"
   ]
  },
  {
   "cell_type": "markdown",
   "metadata": {},
   "source": [
    "## Lucas Georges Helal\n",
    "#### Mestrando em Ciência da Computação - UEM\n"
   ]
  },
  {
   "cell_type": "markdown",
   "metadata": {},
   "source": [
    "---------------------------------------\n",
    "Desempacotamento de Sequências"
   ]
  },
  {
   "cell_type": "code",
   "execution_count": 1,
   "metadata": {},
   "outputs": [],
   "source": [
    "# Inteiros\n",
    "a, b, c = [1, 2, 3]"
   ]
  },
  {
   "cell_type": "code",
   "execution_count": 2,
   "metadata": {},
   "outputs": [
    {
     "name": "stdout",
     "output_type": "stream",
     "text": [
      "a = 1 b = 2 c = 3\n"
     ]
    }
   ],
   "source": [
    "print (\"a =\" , a ,\"b =\", b, \"c =\",c)"
   ]
  },
  {
   "cell_type": "code",
   "execution_count": 3,
   "metadata": {},
   "outputs": [],
   "source": [
    "# Tuplas\n",
    "t1, t2 = (\"Lucas\", \"Helal\")"
   ]
  },
  {
   "cell_type": "code",
   "execution_count": 4,
   "metadata": {},
   "outputs": [
    {
     "data": {
      "text/plain": [
       "('t1 =', 'Lucas', 't2 =', 'Helal')"
      ]
     },
     "execution_count": 4,
     "metadata": {},
     "output_type": "execute_result"
    }
   ],
   "source": [
    "\"t1 =\", t1, \"t2 =\", t2"
   ]
  },
  {
   "cell_type": "code",
   "execution_count": 5,
   "metadata": {},
   "outputs": [
    {
     "name": "stdout",
     "output_type": "stream",
     "text": [
      "l = L u = u c = c a = a s = s\n"
     ]
    }
   ],
   "source": [
    "# Strings\n",
    "\n",
    "l,u,c,a,s = \"Lucas\"\n",
    "\n",
    "print (\"l =\", l, \"u =\", u, \"c =\", c, \"a =\", a, \"s =\", s) "
   ]
  },
  {
   "cell_type": "code",
   "execution_count": 6,
   "metadata": {},
   "outputs": [
    {
     "data": {
      "text/plain": [
       "('a =', 1, 'b =', 2)"
      ]
     },
     "execution_count": 6,
     "metadata": {},
     "output_type": "execute_result"
    }
   ],
   "source": [
    "# Descartando Elementos\n",
    "a, b, _ = [1, 2, 3]\n",
    "\"a =\" , a ,\"b =\", b"
   ]
  },
  {
   "cell_type": "code",
   "execution_count": 7,
   "metadata": {},
   "outputs": [
    {
     "data": {
      "text/plain": [
       "('First =', 10, 'Tail =', [20, 30, 40, 50])"
      ]
     },
     "execution_count": 7,
     "metadata": {},
     "output_type": "execute_result"
    }
   ],
   "source": [
    "# Desempacotando valores com tamanhos desconhecidos\n",
    "\n",
    "valores = [10, 20, 30, 40, 50]\n",
    "\n",
    "first, *tail = valores\n",
    "\n",
    "\"First =\", first, \"Tail =\", tail\n",
    "\n"
   ]
  },
  {
   "cell_type": "code",
   "execution_count": 8,
   "metadata": {},
   "outputs": [
    {
     "data": {
      "text/plain": [
       "('First =', 10, 'Last =', 50)"
      ]
     },
     "execution_count": 8,
     "metadata": {},
     "output_type": "execute_result"
    }
   ],
   "source": [
    "first, *_ , last = valores\n",
    "\n",
    "\"First =\", first, \"Last =\", last"
   ]
  },
  {
   "cell_type": "markdown",
   "metadata": {},
   "source": [
    "Geradores"
   ]
  },
  {
   "cell_type": "code",
   "execution_count": 9,
   "metadata": {},
   "outputs": [
    {
     "data": {
      "text/plain": [
       "'o'"
      ]
     },
     "execution_count": 9,
     "metadata": {},
     "output_type": "execute_result"
    }
   ],
   "source": [
    "gerador = (letra for letra in \"oi\")\n",
    "next(gerador)\n"
   ]
  },
  {
   "cell_type": "code",
   "execution_count": 10,
   "metadata": {},
   "outputs": [
    {
     "data": {
      "text/plain": [
       "'i'"
      ]
     },
     "execution_count": 10,
     "metadata": {},
     "output_type": "execute_result"
    }
   ],
   "source": [
    "# ou\n",
    "gerador.__next__()"
   ]
  },
  {
   "cell_type": "markdown",
   "metadata": {},
   "source": [
    "Yield\n",
    "\n",
    "O objetivo do Yield é retornar algum interador conforme ele vai sendo utilizado, exemplo: algum caso que o return seja muito grande e não caiba na memória."
   ]
  },
  {
   "cell_type": "code",
   "execution_count": 11,
   "metadata": {},
   "outputs": [
    {
     "data": {
      "text/plain": [
       "0"
      ]
     },
     "execution_count": 11,
     "metadata": {},
     "output_type": "execute_result"
    }
   ],
   "source": [
    "def gerador_yield():\n",
    "    for i in range(5):\n",
    "        yield i\n",
    "\n",
    "y = gerador_yield()\n",
    "\n",
    "next(y)"
   ]
  },
  {
   "cell_type": "markdown",
   "metadata": {},
   "source": [
    "Deque (Fila Dupla)\n",
    "\n",
    "Pode ser inserido tanto no final quanto no início da fila, tem complexidade O(1) diferente de uma lista que é O(N).\n",
    "\n"
   ]
  },
  {
   "cell_type": "code",
   "execution_count": 16,
   "metadata": {},
   "outputs": [
    {
     "name": "stdout",
     "output_type": "stream",
     "text": [
      "deque([1, 2, 3], maxlen=3)\n",
      "deque([2, 3, 4], maxlen=3)\n"
     ]
    }
   ],
   "source": [
    "from collections import deque\n",
    "\n",
    "# Fila com max tamanho\n",
    "\n",
    "fila = deque(maxlen = 3)\n",
    "fila.append(1)\n",
    "fila.append(2)\n",
    "fila.append(3)\n",
    "print(fila)\n",
    "\n",
    "# se inserir mais elementos que o max, ela remove o primeiro elemento.\n",
    "fila.append(4)\n",
    "print(fila)"
   ]
  },
  {
   "cell_type": "code",
   "execution_count": 20,
   "metadata": {},
   "outputs": [
    {
     "name": "stdout",
     "output_type": "stream",
     "text": [
      "deque([4, 1, 2, 3])\n",
      "deque([4, 1, 2])\n",
      "deque([1, 2])\n"
     ]
    }
   ],
   "source": [
    "fila_dupla = deque()\n",
    "fila_dupla.append(1)\n",
    "fila_dupla.append(2)\n",
    "fila_dupla.append(3)\n",
    "# insere a esquerda\n",
    "fila_dupla.appendleft(4)\n",
    "print(fila_dupla)\n",
    "# remove a direita\n",
    "fila_dupla.pop()\n",
    "print(fila_dupla)\n",
    "\n",
    "# remove a esquerda\n",
    "fila_dupla.popleft()\n",
    "print(fila_dupla)"
   ]
  },
  {
   "cell_type": "markdown",
   "metadata": {},
   "source": [
    "Heapq\n",
    "\n",
    "Custo para remover o menor elemento é O log(n)\n",
    "\n",
    "heap[0] sempre trás o menor elemento.\n",
    "\n",
    "Fila de prioridades."
   ]
  },
  {
   "cell_type": "code",
   "execution_count": 33,
   "metadata": {},
   "outputs": [
    {
     "name": "stdout",
     "output_type": "stream",
     "text": [
      "[8, 9]\n",
      "[30]\n",
      "[8, 9, 13, 30, 20]\n",
      "8\n",
      "[9, 12, 13, 30, 20]\n"
     ]
    }
   ],
   "source": [
    "import heapq\n",
    "\n",
    "idades = [13, 30, 8, 9, 20]\n",
    "\n",
    "# retorna n menores idades\n",
    "\n",
    "print(heapq.nsmallest(2, idades))\n",
    "\n",
    "# retorna n maiores idades\n",
    "\n",
    "print(heapq.nlargest(1, idades))\n",
    "\n",
    "# transforma lista em heap em tempo linear\n",
    "\n",
    "heapq.heapify(idades)\n",
    "\n",
    "print(idades)\n",
    "\n",
    "print (heapq.heappop(idades))\n",
    "\n",
    "heapq.heappush(idades, 12)\n",
    "print (idades)\n"
   ]
  },
  {
   "cell_type": "code",
   "execution_count": 36,
   "metadata": {},
   "outputs": [
    {
     "name": "stdout",
     "output_type": "stream",
     "text": [
      "Maria\n"
     ]
    }
   ],
   "source": [
    "class PriorityQueue:\n",
    "    def __init__(self):\n",
    "        self._queue = []\n",
    "        self._index = 0\n",
    "    \n",
    "    def push(self, item, priority):\n",
    "        # -priority para retornar a maior prioridade\n",
    "        heapq.heappush(self._queue, (-priority, self._index, item))\n",
    "        self._index += 1\n",
    "        \n",
    "    def pop(self):\n",
    "        #[-1] para retornar o item\n",
    "        return heapq.heappop(self._queue)[-1]\n",
    "    \n",
    "class Person:\n",
    "    def __init__(self, name):\n",
    "        self.name = name\n",
    "        \n",
    "    def __repr__(self):\n",
    "        return self.name\n",
    "\n",
    "q = PriorityQueue()\n",
    "q.push(Person(\"Lucas\"), 27)\n",
    "q.push(Person(\"Carlos\"), 28)\n",
    "q.push(Person(\"Camila\"), 17)\n",
    "q.push(Person(\"Maria\"), 30)\n",
    "\n",
    "\n",
    "print(q.pop())\n",
    "        "
   ]
  },
  {
   "cell_type": "markdown",
   "metadata": {},
   "source": [
    "#### Bitwise\n",
    "\n",
    "* Shift a esquerda: x << y\n",
    "\n",
    "* Shift a direita: x >> y\n",
    "\n",
    "* AND: x & y\n",
    "\n",
    "* OR: x | y\n",
    "\n",
    "* XOR: x ˆ y\n",
    "\n",
    "* Complemento: ~x"
   ]
  },
  {
   "cell_type": "code",
   "execution_count": 44,
   "metadata": {},
   "outputs": [
    {
     "name": "stdout",
     "output_type": "stream",
     "text": [
      "0b1010\n",
      "0b101\n"
     ]
    },
    {
     "data": {
      "text/plain": [
       "15"
      ]
     },
     "execution_count": 44,
     "metadata": {},
     "output_type": "execute_result"
    }
   ],
   "source": [
    "n1 = 10\n",
    "n2 = 5\n",
    "print(bin(n1))\n",
    "print(bin(n2))\n",
    "resultado = n2 | n1\n",
    "\n",
    "resultado"
   ]
  },
  {
   "cell_type": "markdown",
   "metadata": {},
   "source": [
    "#### Ordenação\n"
   ]
  },
  {
   "cell_type": "code",
   "execution_count": 52,
   "metadata": {},
   "outputs": [
    {
     "name": "stdout",
     "output_type": "stream",
     "text": [
      "[Lucas, Matheus]\n",
      "[Matheus, Lucas]\n",
      "[Lucas, Matheus]\n"
     ]
    }
   ],
   "source": [
    "class Pessoa:\n",
    "    def __init__(self, nome, idade):\n",
    "        self.nome = nome\n",
    "        self.idade = idade\n",
    "    \n",
    "    def __repr__(self):\n",
    "        return self.nome\n",
    "\n",
    "def pelo_nome(pessoa):\n",
    "    return pessoa.nome\n",
    "\n",
    "def pela_idade(pessoa):\n",
    "    return pessoa.idade\n",
    "\n",
    "p1 = Pessoa(\"Lucas\", 27)\n",
    "p2 = Pessoa(\"Matheus\", 23)\n",
    "\n",
    "pessoas = [p1, p2]\n",
    "\n",
    "\n",
    "print(sorted(pessoas, key = pelo_nome))\n",
    "print(sorted(pessoas, key = pela_idade))\n",
    "print(sorted(pessoas, key = pela_idade, reverse=True))"
   ]
  },
  {
   "cell_type": "markdown",
   "metadata": {},
   "source": [
    "#### Funções Aninhadas e utilização do Try except"
   ]
  },
  {
   "cell_type": "code",
   "execution_count": 57,
   "metadata": {},
   "outputs": [
    {
     "name": "stdout",
     "output_type": "stream",
     "text": [
      "Filho2\n",
      "Filho1\n"
     ]
    }
   ],
   "source": [
    "def pai(num):\n",
    "    \n",
    "    def filho_um():\n",
    "        print(\"Filho1\")\n",
    "    \n",
    "    def filho_dois():\n",
    "        print(\"Filho2\")\n",
    "        \n",
    "    try:\n",
    "        assert num == 20\n",
    "        return filho_um\n",
    "    except AssertionError:\n",
    "        return filho_dois\n",
    "    \n",
    "f1 = pai(10)\n",
    "f1()\n",
    "\n",
    "f2 = pai(20)\n",
    "f2()\n"
   ]
  },
  {
   "cell_type": "code",
   "execution_count": null,
   "metadata": {},
   "outputs": [],
   "source": []
  }
 ],
 "metadata": {
  "kernelspec": {
   "display_name": "Python 3",
   "language": "python",
   "name": "python3"
  },
  "language_info": {
   "codemirror_mode": {
    "name": "ipython",
    "version": 3
   },
   "file_extension": ".py",
   "mimetype": "text/x-python",
   "name": "python",
   "nbconvert_exporter": "python",
   "pygments_lexer": "ipython3",
   "version": "3.6.1"
  }
 },
 "nbformat": 4,
 "nbformat_minor": 2
}
