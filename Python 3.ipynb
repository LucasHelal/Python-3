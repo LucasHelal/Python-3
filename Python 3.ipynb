{
 "cells": [
  {
   "cell_type": "markdown",
   "metadata": {},
   "source": [
    "# Python 3"
   ]
  },
  {
   "cell_type": "markdown",
   "metadata": {},
   "source": [
    "## Lucas Georges Helal\n",
    "#### Mestrando em Ciência da Computação - UEM\n"
   ]
  },
  {
   "cell_type": "markdown",
   "metadata": {},
   "source": [
    "---------------------------------------\n",
    "Desempacotamento de Sequências"
   ]
  },
  {
   "cell_type": "code",
   "execution_count": 1,
   "metadata": {},
   "outputs": [],
   "source": [
    "# Inteiros\n",
    "a, b, c = [1, 2, 3]"
   ]
  },
  {
   "cell_type": "code",
   "execution_count": 2,
   "metadata": {},
   "outputs": [
    {
     "name": "stdout",
     "output_type": "stream",
     "text": [
      "a = 1 b = 2 c = 3\n"
     ]
    }
   ],
   "source": [
    "print (\"a =\" , a ,\"b =\", b, \"c =\",c)"
   ]
  },
  {
   "cell_type": "code",
   "execution_count": 3,
   "metadata": {},
   "outputs": [],
   "source": [
    "# Tuplas\n",
    "t1, t2 = (\"Lucas\", \"Helal\")"
   ]
  },
  {
   "cell_type": "code",
   "execution_count": 4,
   "metadata": {},
   "outputs": [
    {
     "data": {
      "text/plain": [
       "('t1 =', 'Lucas', 't2 =', 'Helal')"
      ]
     },
     "execution_count": 4,
     "metadata": {},
     "output_type": "execute_result"
    }
   ],
   "source": [
    "\"t1 =\", t1, \"t2 =\", t2"
   ]
  },
  {
   "cell_type": "code",
   "execution_count": 5,
   "metadata": {},
   "outputs": [
    {
     "name": "stdout",
     "output_type": "stream",
     "text": [
      "l = L u = u c = c a = a s = s\n"
     ]
    }
   ],
   "source": [
    "# Strings\n",
    "\n",
    "l,u,c,a,s = \"Lucas\"\n",
    "\n",
    "print (\"l =\", l, \"u =\", u, \"c =\", c, \"a =\", a, \"s =\", s) "
   ]
  },
  {
   "cell_type": "code",
   "execution_count": 6,
   "metadata": {},
   "outputs": [
    {
     "data": {
      "text/plain": [
       "('a =', 1, 'b =', 2)"
      ]
     },
     "execution_count": 6,
     "metadata": {},
     "output_type": "execute_result"
    }
   ],
   "source": [
    "# Descartando Elementos\n",
    "a, b, _ = [1, 2, 3]\n",
    "\"a =\" , a ,\"b =\", b"
   ]
  },
  {
   "cell_type": "code",
   "execution_count": 7,
   "metadata": {},
   "outputs": [
    {
     "data": {
      "text/plain": [
       "('First =', 10, 'Tail =', [20, 30, 40, 50])"
      ]
     },
     "execution_count": 7,
     "metadata": {},
     "output_type": "execute_result"
    }
   ],
   "source": [
    "# Desempacotando valores com tamanhos desconhecidos\n",
    "\n",
    "valores = [10, 20, 30, 40, 50]\n",
    "\n",
    "first, *tail = valores\n",
    "\n",
    "\"First =\", first, \"Tail =\", tail\n",
    "\n"
   ]
  },
  {
   "cell_type": "code",
   "execution_count": 8,
   "metadata": {},
   "outputs": [
    {
     "data": {
      "text/plain": [
       "('First =', 10, 'Last =', 50)"
      ]
     },
     "execution_count": 8,
     "metadata": {},
     "output_type": "execute_result"
    }
   ],
   "source": [
    "first, *_ , last = valores\n",
    "\n",
    "\"First =\", first, \"Last =\", last"
   ]
  },
  {
   "cell_type": "markdown",
   "metadata": {},
   "source": [
    "Geradores"
   ]
  },
  {
   "cell_type": "code",
   "execution_count": 9,
   "metadata": {},
   "outputs": [
    {
     "data": {
      "text/plain": [
       "'o'"
      ]
     },
     "execution_count": 9,
     "metadata": {},
     "output_type": "execute_result"
    }
   ],
   "source": [
    "gerador = (letra for letra in \"oi\")\n",
    "next(gerador)\n"
   ]
  },
  {
   "cell_type": "code",
   "execution_count": 10,
   "metadata": {},
   "outputs": [
    {
     "data": {
      "text/plain": [
       "'i'"
      ]
     },
     "execution_count": 10,
     "metadata": {},
     "output_type": "execute_result"
    }
   ],
   "source": [
    "# ou\n",
    "gerador.__next__()"
   ]
  },
  {
   "cell_type": "markdown",
   "metadata": {},
   "source": [
    "Yield\n",
    "\n",
    "O objetivo do Yield é retornar algum interador conforme ele vai sendo utilizado, exemplo: algum caso que o return seja muito grande e não caiba na memória."
   ]
  },
  {
   "cell_type": "code",
   "execution_count": 11,
   "metadata": {},
   "outputs": [
    {
     "data": {
      "text/plain": [
       "0"
      ]
     },
     "execution_count": 11,
     "metadata": {},
     "output_type": "execute_result"
    }
   ],
   "source": [
    "def gerador_yield():\n",
    "    for i in range(5):\n",
    "        yield i\n",
    "\n",
    "y = gerador_yield()\n",
    "\n",
    "next(y)"
   ]
  },
  {
   "cell_type": "markdown",
   "metadata": {},
   "source": [
    "Deque (Fila Dupla)\n",
    "\n",
    "Pode ser inserido tanto no final quanto no início da fila, tem complexidade O(1) diferente de uma lista que é O(N).\n",
    "\n"
   ]
  },
  {
   "cell_type": "code",
   "execution_count": 16,
   "metadata": {},
   "outputs": [
    {
     "name": "stdout",
     "output_type": "stream",
     "text": [
      "deque([1, 2, 3], maxlen=3)\n",
      "deque([2, 3, 4], maxlen=3)\n"
     ]
    }
   ],
   "source": [
    "from collections import deque\n",
    "\n",
    "# Fila com max tamanho\n",
    "\n",
    "fila = deque(maxlen = 3)\n",
    "fila.append(1)\n",
    "fila.append(2)\n",
    "fila.append(3)\n",
    "print(fila)\n",
    "\n",
    "# se inserir mais elementos que o max, ela remove o primeiro elemento.\n",
    "fila.append(4)\n",
    "print(fila)"
   ]
  },
  {
   "cell_type": "code",
   "execution_count": 20,
   "metadata": {},
   "outputs": [
    {
     "name": "stdout",
     "output_type": "stream",
     "text": [
      "deque([4, 1, 2, 3])\n",
      "deque([4, 1, 2])\n",
      "deque([1, 2])\n"
     ]
    }
   ],
   "source": [
    "fila_dupla = deque()\n",
    "fila_dupla.append(1)\n",
    "fila_dupla.append(2)\n",
    "fila_dupla.append(3)\n",
    "# insere a esquerda\n",
    "fila_dupla.appendleft(4)\n",
    "print(fila_dupla)\n",
    "# remove a direita\n",
    "fila_dupla.pop()\n",
    "print(fila_dupla)\n",
    "\n",
    "# remove a esquerda\n",
    "fila_dupla.popleft()\n",
    "print(fila_dupla)"
   ]
  },
  {
   "cell_type": "markdown",
   "metadata": {},
   "source": [
    "Heapq\n",
    "\n",
    "Custo para remover o menor elemento é O log(n)\n",
    "\n",
    "heap[0] sempre trás o menor elemento.\n",
    "\n",
    "Fila de prioridades."
   ]
  },
  {
   "cell_type": "code",
   "execution_count": 33,
   "metadata": {},
   "outputs": [
    {
     "name": "stdout",
     "output_type": "stream",
     "text": [
      "[8, 9]\n",
      "[30]\n",
      "[8, 9, 13, 30, 20]\n",
      "8\n",
      "[9, 12, 13, 30, 20]\n"
     ]
    }
   ],
   "source": [
    "import heapq\n",
    "\n",
    "idades = [13, 30, 8, 9, 20]\n",
    "\n",
    "# retorna n menores idades\n",
    "\n",
    "print(heapq.nsmallest(2, idades))\n",
    "\n",
    "# retorna n maiores idades\n",
    "\n",
    "print(heapq.nlargest(1, idades))\n",
    "\n",
    "# transforma lista em heap em tempo linear\n",
    "\n",
    "heapq.heapify(idades)\n",
    "\n",
    "print(idades)\n",
    "\n",
    "print (heapq.heappop(idades))\n",
    "\n",
    "heapq.heappush(idades, 12)\n",
    "print (idades)\n"
   ]
  },
  {
   "cell_type": "code",
   "execution_count": 36,
   "metadata": {},
   "outputs": [
    {
     "name": "stdout",
     "output_type": "stream",
     "text": [
      "Maria\n"
     ]
    }
   ],
   "source": [
    "class PriorityQueue:\n",
    "    def __init__(self):\n",
    "        self._queue = []\n",
    "        self._index = 0\n",
    "    \n",
    "    def push(self, item, priority):\n",
    "        # -priority para retornar a maior prioridade\n",
    "        heapq.heappush(self._queue, (-priority, self._index, item))\n",
    "        self._index += 1\n",
    "        \n",
    "    def pop(self):\n",
    "        #[-1] para retornar o item\n",
    "        return heapq.heappop(self._queue)[-1]\n",
    "    \n",
    "class Person:\n",
    "    def __init__(self, name):\n",
    "        self.name = name\n",
    "        \n",
    "    def __repr__(self):\n",
    "        return self.name\n",
    "\n",
    "q = PriorityQueue()\n",
    "q.push(Person(\"Lucas\"), 27)\n",
    "q.push(Person(\"Carlos\"), 28)\n",
    "q.push(Person(\"Camila\"), 17)\n",
    "q.push(Person(\"Maria\"), 30)\n",
    "\n",
    "\n",
    "print(q.pop())\n",
    "        "
   ]
  },
  {
   "cell_type": "markdown",
   "metadata": {},
   "source": [
    "#### Bitwise\n",
    "\n",
    "* Shift a esquerda: x << y\n",
    "\n",
    "* Shift a direita: x >> y\n",
    "\n",
    "* AND: x & y\n",
    "\n",
    "* OR: x | y\n",
    "\n",
    "* XOR: x ˆ y\n",
    "\n",
    "* Complemento: ~x"
   ]
  },
  {
   "cell_type": "code",
   "execution_count": 44,
   "metadata": {},
   "outputs": [
    {
     "name": "stdout",
     "output_type": "stream",
     "text": [
      "0b1010\n",
      "0b101\n"
     ]
    },
    {
     "data": {
      "text/plain": [
       "15"
      ]
     },
     "execution_count": 44,
     "metadata": {},
     "output_type": "execute_result"
    }
   ],
   "source": [
    "n1 = 10\n",
    "n2 = 5\n",
    "print(bin(n1))\n",
    "print(bin(n2))\n",
    "resultado = n2 | n1\n",
    "\n",
    "resultado"
   ]
  },
  {
   "cell_type": "markdown",
   "metadata": {},
   "source": [
    "#### Ordenação\n"
   ]
  },
  {
   "cell_type": "code",
   "execution_count": 52,
   "metadata": {},
   "outputs": [
    {
     "name": "stdout",
     "output_type": "stream",
     "text": [
      "[Lucas, Matheus]\n",
      "[Matheus, Lucas]\n",
      "[Lucas, Matheus]\n"
     ]
    }
   ],
   "source": [
    "class Pessoa:\n",
    "    def __init__(self, nome, idade):\n",
    "        self.nome = nome\n",
    "        self.idade = idade\n",
    "    \n",
    "    def __repr__(self):\n",
    "        return self.nome\n",
    "\n",
    "def pelo_nome(pessoa):\n",
    "    return pessoa.nome\n",
    "\n",
    "def pela_idade(pessoa):\n",
    "    return pessoa.idade\n",
    "\n",
    "p1 = Pessoa(\"Lucas\", 27)\n",
    "p2 = Pessoa(\"Matheus\", 23)\n",
    "\n",
    "pessoas = [p1, p2]\n",
    "\n",
    "\n",
    "print(sorted(pessoas, key = pelo_nome))\n",
    "print(sorted(pessoas, key = pela_idade))\n",
    "print(sorted(pessoas, key = pela_idade, reverse=True))"
   ]
  },
  {
   "cell_type": "markdown",
   "metadata": {},
   "source": [
    "#### Funções Aninhadas e utilização do Try except"
   ]
  },
  {
   "cell_type": "code",
   "execution_count": 57,
   "metadata": {},
   "outputs": [
    {
     "name": "stdout",
     "output_type": "stream",
     "text": [
      "Filho2\n",
      "Filho1\n"
     ]
    }
   ],
   "source": [
    "def pai(num):\n",
    "    \n",
    "    def filho_um():\n",
    "        print(\"Filho1\")\n",
    "    \n",
    "    def filho_dois():\n",
    "        print(\"Filho2\")\n",
    "        \n",
    "    try:\n",
    "        assert num == 20\n",
    "        return filho_um\n",
    "    except AssertionError:\n",
    "        return filho_dois\n",
    "    \n",
    "f1 = pai(10)\n",
    "f1()\n",
    "\n",
    "f2 = pai(20)\n",
    "f2()\n"
   ]
  },
  {
   "cell_type": "markdown",
   "metadata": {},
   "source": [
    "#### Dicionários com múltiplos valores"
   ]
  },
  {
   "cell_type": "code",
   "execution_count": 4,
   "metadata": {},
   "outputs": [
    {
     "name": "stdout",
     "output_type": "stream",
     "text": [
      "[10, 14, 10]\n",
      "{10, 14}\n"
     ]
    }
   ],
   "source": [
    "from collections import defaultdict\n",
    "\n",
    "# dic com múltiplos valores permite repitidos\n",
    "\n",
    "dic = defaultdict(list)\n",
    "dic['Lucas'].append(10)\n",
    "dic['Lucas'].append(14)\n",
    "dic['Lucas'].append(10)\n",
    "\n",
    "print(dic['Lucas'])\n",
    "\n",
    "# dic com múltiplos valores NÃO permite repitidos\n",
    "\n",
    "dic = defaultdict(set)\n",
    "dic['Lucas'].add(10)\n",
    "dic['Lucas'].add(14)\n",
    "dic['Lucas'].add(10)\n",
    "\n",
    "print(dic['Lucas'])\n",
    "\n"
   ]
  },
  {
   "cell_type": "code",
   "execution_count": 7,
   "metadata": {},
   "outputs": [
    {
     "name": "stdout",
     "output_type": "stream",
     "text": [
      "Python 10\n",
      "Java 9\n",
      "Php 11\n"
     ]
    }
   ],
   "source": [
    "# dicionários com ordenação de acordo com a ordem de inserção\n",
    "\n",
    "from collections import OrderedDict\n",
    "\n",
    "d = OrderedDict()\n",
    "d[\"Python\"] = 10\n",
    "d[\"Java\"] = 9\n",
    "d[\"Php\"] = 11\n",
    "\n",
    "for key in d:\n",
    "    print(key, d[key])"
   ]
  },
  {
   "cell_type": "markdown",
   "metadata": {},
   "source": [
    "#### Multiplicidade"
   ]
  },
  {
   "cell_type": "code",
   "execution_count": 21,
   "metadata": {},
   "outputs": [
    {
     "name": "stdout",
     "output_type": "stream",
     "text": [
      "Counter({'a': 4, 'c': 3, 'b': 2})\n"
     ]
    }
   ],
   "source": [
    "from collections import Counter\n",
    "\n",
    "c = Counter(a=4, b=2, c=3)\n",
    "\n",
    "print(c)"
   ]
  },
  {
   "cell_type": "code",
   "execution_count": 22,
   "metadata": {},
   "outputs": [
    {
     "data": {
      "text/plain": [
       "['a', 'a', 'a', 'a', 'b', 'b', 'c', 'c', 'c']"
      ]
     },
     "execution_count": 22,
     "metadata": {},
     "output_type": "execute_result"
    }
   ],
   "source": [
    "c_elem = c.elements()\n",
    "\n",
    "list(c_elem)"
   ]
  },
  {
   "cell_type": "code",
   "execution_count": 23,
   "metadata": {},
   "outputs": [
    {
     "data": {
      "text/plain": [
       "[('a', 4), ('c', 3), ('b', 2)]"
      ]
     },
     "execution_count": 23,
     "metadata": {},
     "output_type": "execute_result"
    }
   ],
   "source": [
    "# lista o n elementos mais comuns\n",
    "c.most_common(3)"
   ]
  },
  {
   "cell_type": "markdown",
   "metadata": {},
   "source": [
    "#### Indexação negativa"
   ]
  },
  {
   "cell_type": "code",
   "execution_count": 30,
   "metadata": {},
   "outputs": [
    {
     "name": "stdout",
     "output_type": "stream",
     "text": [
      "6\n",
      "4\n",
      "[3, 4]\n",
      "[6, 4, 2]\n"
     ]
    }
   ],
   "source": [
    "lista = [1, 2, 3, 4, 5, 6]\n",
    "\n",
    "print(lista[-1])\n",
    "\n",
    "print(lista[-3])\n",
    "\n",
    "print(lista[-4:-2])\n",
    "\n",
    "print(lista[::-2])"
   ]
  },
  {
   "cell_type": "code",
   "execution_count": 31,
   "metadata": {},
   "outputs": [
    {
     "data": {
      "text/plain": [
       "[6, 4, 2]"
      ]
     },
     "execution_count": 31,
     "metadata": {},
     "output_type": "execute_result"
    }
   ],
   "source": [
    "# slice(start, end, step)\n",
    "\n",
    "passo_menos_2 = slice(None, None, -2)\n",
    "lista[passo_menos_2]"
   ]
  },
  {
   "cell_type": "markdown",
   "metadata": {},
   "source": [
    "#### Operação em conjuntos (sets)"
   ]
  },
  {
   "cell_type": "code",
   "execution_count": 36,
   "metadata": {},
   "outputs": [
    {
     "name": "stdout",
     "output_type": "stream",
     "text": [
      "{1, 2, 3, 4, 5}\n",
      "{3, 4, 6, 7}\n",
      "<class 'set'>\n",
      "{1, 2, 3, 4, 5, 6, 7}\n",
      "{3, 4}\n",
      "{1, 2, 5}\n",
      "{1, 2, 5, 6, 7}\n"
     ]
    }
   ],
   "source": [
    "c = {1, 2, 3, 4, 5}\n",
    "print(c)\n",
    "\n",
    "d = {3, 3, 4, 4, 6, 7}\n",
    "print(d)\n",
    "# Não permite conjuntos repitidos\n",
    "print(type(d))\n",
    "\n",
    "print(c | d)\n",
    "print(c & d)\n",
    "print(c - d)\n",
    "print(c ^ d)"
   ]
  },
  {
   "cell_type": "markdown",
   "metadata": {},
   "source": [
    "#### Produtos Cartesianos"
   ]
  },
  {
   "cell_type": "code",
   "execution_count": 40,
   "metadata": {},
   "outputs": [
    {
     "name": "stdout",
     "output_type": "stream",
     "text": [
      "(1, 'A')\n",
      "(1, 'B')\n",
      "(2, 'A')\n",
      "(2, 'B')\n",
      "(3, 'A')\n",
      "(3, 'B')\n"
     ]
    }
   ],
   "source": [
    "import itertools\n",
    "\n",
    "for p in itertools.product([1, 2, 3], ['A', 'B']):\n",
    "    print(p)"
   ]
  },
  {
   "cell_type": "markdown",
   "metadata": {},
   "source": [
    "#### Permutações"
   ]
  },
  {
   "cell_type": "code",
   "execution_count": 46,
   "metadata": {},
   "outputs": [
    {
     "name": "stdout",
     "output_type": "stream",
     "text": [
      "(1, 2, 3)\n",
      "1 2 3\n",
      "(1, 3, 2)\n",
      "1 3 2\n",
      "(2, 1, 3)\n",
      "2 1 3\n",
      "(2, 3, 1)\n",
      "2 3 1\n",
      "(3, 1, 2)\n",
      "3 1 2\n",
      "(3, 2, 1)\n",
      "3 2 1\n"
     ]
    }
   ],
   "source": [
    "for p in itertools.permutations([1, 2, 3]):\n",
    "    print(p)\n",
    "    print(' '.join(str(x) for x in p))"
   ]
  },
  {
   "cell_type": "code",
   "execution_count": 48,
   "metadata": {},
   "outputs": [
    {
     "data": {
      "text/plain": [
       "[1, 2, 'a', 'b']"
      ]
     },
     "execution_count": 48,
     "metadata": {},
     "output_type": "execute_result"
    }
   ],
   "source": [
    "# Combinando listas\n",
    "\n",
    "lista_um = [1, 2]\n",
    "lista_dois = [\"a\", \"b\"]\n",
    "\n",
    "comb = itertools.chain(lista_um, lista_dois)\n",
    "list(comb)"
   ]
  },
  {
   "cell_type": "code",
   "execution_count": 49,
   "metadata": {},
   "outputs": [
    {
     "data": {
      "text/plain": [
       "[(1, 'a'), (2, 'b')]"
      ]
     },
     "execution_count": 49,
     "metadata": {},
     "output_type": "execute_result"
    }
   ],
   "source": [
    "# Combinando elementos em tuplas\n",
    "\n",
    "z = zip([1, 2, 3], [\"a\", \"b\"])\n",
    "list(z)"
   ]
  },
  {
   "cell_type": "markdown",
   "metadata": {},
   "source": [
    "#### Agrupando itens com base em uma chave"
   ]
  },
  {
   "cell_type": "code",
   "execution_count": 51,
   "metadata": {},
   "outputs": [
    {
     "name": "stdout",
     "output_type": "stream",
     "text": [
      "[('marcos', 28), ('pedro', 19), ('joao', 20), ('marcos', 20), ('joao', 18), ('marcos', 30)]\n",
      "[('joao', 20), ('joao', 18), ('marcos', 28), ('marcos', 20), ('marcos', 30), ('pedro', 19)]\n",
      "{'joao': [18, 20], 'marcos': [20, 28, 30], 'pedro': [19]}\n"
     ]
    }
   ],
   "source": [
    "from operator import itemgetter\n",
    "from itertools import groupby\n",
    "\n",
    "exemplos =[(\"marcos\", 28), (\"pedro\", 19), (\"joao\", 20), (\"marcos\", 20), (\"joao\", 18), (\"marcos\", 30)]\n",
    "print(exemplos)\n",
    "\n",
    "exemplos.sort(key=itemgetter(0))\n",
    "print(exemplos)\n",
    "\n",
    "agrup = { key: sorted(map(itemgetter(1), value)) for key, value in groupby(exemplos, key=itemgetter(0))}\n",
    "print(agrup)"
   ]
  },
  {
   "cell_type": "markdown",
   "metadata": {},
   "source": [
    "#### Add um contador a um iterable"
   ]
  },
  {
   "cell_type": "code",
   "execution_count": 53,
   "metadata": {},
   "outputs": [
    {
     "name": "stdout",
     "output_type": "stream",
     "text": [
      "0 1\n",
      "1 2\n",
      "2 3\n",
      "3 4\n"
     ]
    }
   ],
   "source": [
    "tupla = (1, 2, 3, 4)\n",
    "\n",
    "for count, elem in enumerate(tupla):\n",
    "    print(\"%d %d\" % (count, elem))"
   ]
  },
  {
   "cell_type": "markdown",
   "metadata": {},
   "source": [
    "#### Obtendo max e min valores em um dic e associando a chave e valor"
   ]
  },
  {
   "cell_type": "code",
   "execution_count": 56,
   "metadata": {},
   "outputs": [
    {
     "name": "stdout",
     "output_type": "stream",
     "text": [
      "(24000, 'carro')\n",
      "(120000, 'casa')\n"
     ]
    }
   ],
   "source": [
    "precos = {\"carro\":24000, \"casa\":120000}\n",
    "\n",
    "print(min(zip(precos.values(), precos.keys())))\n",
    "print(max(zip(precos.values(), precos.keys())))"
   ]
  },
  {
   "cell_type": "markdown",
   "metadata": {},
   "source": [
    "#### Conjuntos em dic"
   ]
  },
  {
   "cell_type": "code",
   "execution_count": 59,
   "metadata": {},
   "outputs": [
    {
     "data": {
      "text/plain": [
       "{'maria'}"
      ]
     },
     "execution_count": 59,
     "metadata": {},
     "output_type": "execute_result"
    }
   ],
   "source": [
    "# o metódo keys() suporta operações de conjuntos\n",
    "\n",
    "d = {\"lucas\":27, \"ana\":23, \"maria\": 10}\n",
    "d2 = {\"matheus\": 20, \"maria\":18}\n",
    "\n",
    "d.keys() & d2.keys()"
   ]
  },
  {
   "cell_type": "code",
   "execution_count": null,
   "metadata": {},
   "outputs": [],
   "source": []
  },
  {
   "cell_type": "code",
   "execution_count": null,
   "metadata": {},
   "outputs": [],
   "source": []
  },
  {
   "cell_type": "code",
   "execution_count": null,
   "metadata": {},
   "outputs": [],
   "source": []
  },
  {
   "cell_type": "code",
   "execution_count": null,
   "metadata": {},
   "outputs": [],
   "source": []
  }
 ],
 "metadata": {
  "kernelspec": {
   "display_name": "Python 3",
   "language": "python",
   "name": "python3"
  },
  "language_info": {
   "codemirror_mode": {
    "name": "ipython",
    "version": 3
   },
   "file_extension": ".py",
   "mimetype": "text/x-python",
   "name": "python",
   "nbconvert_exporter": "python",
   "pygments_lexer": "ipython3",
   "version": "3.6.1"
  }
 },
 "nbformat": 4,
 "nbformat_minor": 2
}
